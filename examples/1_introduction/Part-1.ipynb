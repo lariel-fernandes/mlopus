{
  "cells": [
    {
      "cell_type": "code",
      "execution_count": null,
      "id": "290a4082c9a908a9",
      "metadata": {
        "ExecuteTime": {
          "end_time": "2024-05-22T18:45:04.301943Z",
          "start_time": "2024-05-22T18:45:04.299157Z"
        }
      },
      "outputs": [],
      "source": [
        "import os\n",
        "import logging\n",
        "from pathlib import Path\n",
        "from datetime import datetime\n",
        "\n",
        "import pandas as pd\n",
        "from devtools import pprint\n",
        "\n",
        "logging.basicConfig(level=logging.INFO, handlers=[logging.StreamHandler()])"
      ]
    },
    {
      "cell_type": "markdown",
      "id": "ab705d49-4629-421a-bdaf-b656d9ad3ee1",
      "metadata": {},
      "source": [
        "### API Configuration"
      ]
    },
    {
      "cell_type": "code",
      "execution_count": null,
      "id": "b9fe92a572d62a4c",
      "metadata": {},
      "outputs": [],
      "source": [
        "import mlopus\n",
        "\n",
        "mlflow_api = mlopus.mlflow.get_api(\n",
        "    # plugin=\"mlflow\",  # This is the default API plugin, which is based on open source MLflow.\n",
        "                        # Check for installed API plugins with `mlopus.mlflow.list_api_plugins()`\n",
        "    \n",
        "    # cls=\"...\",        # Alternatively, an API class or a fully qualified class name may be provided.\n",
        "                        # The API class just needs to implement `mlopus.mlflow.api.base.BaseMlflowApi`\n",
        "    \n",
        "    \n",
        "    # Config for the selected API plugin. See all available config params with `mlopus.mlflow.api_conf_schema()`\n",
        "    conf={\n",
        "        \"tracking_uri\": None,  # Defaults to env var MLFLOW_TRACKING_URI or `~/.cache/mlflow`\n",
        "        \"cache_dir\": None,  # Defaults to ~/.cache/mlopus/mlflow-providers/mlflow/<hashed_tracking_uri>\n",
        "        \"offline_mode\": False,  # Disables any features that require contacting the MLflow server (defaults to False)\n",
        "        \"cache_local_artifacts\": True,  # Allow caching artifacts when artifacts repo is local (will cause duplication!) (default is False)\n",
        "        \"file_transfer\": {\"use_scheme\": \"mlflow_sandbox\"}  # If using the `mlflow-sandbox` Docker setup, replace `s3://...` artifact URLs with `mlflow_sandbox://...`\n",
        "    },\n",
        ")\n",
        "\n",
        "pprint(mlflow_api)"
      ]
    },
    {
      "cell_type": "markdown",
      "id": "8d9bf708-a743-4af4-b5e6-d074530e7aaa",
      "metadata": {},
      "source": [
        "### 1. Basic experiment tracking"
      ]
    },
    {
      "cell_type": "code",
      "execution_count": null,
      "id": "d129903e-9feb-41a4-bb4b-dd0ad53956f3",
      "metadata": {},
      "outputs": [],
      "source": [
        "# Get experiment by name, create if non-existing\n",
        "exp = mlflow_api.get_or_create_exp(name=\"mlopus_introduction\")\n",
        "print(exp.url)"
      ]
    },
    {
      "cell_type": "code",
      "execution_count": null,
      "id": "6ef7068c-831d-46f0-bd57-435bebd23392",
      "metadata": {},
      "outputs": [],
      "source": [
        "# Start a run in the experiment above\n",
        "with exp.start_run(name=\"1_basics\") as run:\n",
        "    print(run.url)\n",
        "    \n",
        "    # Tags, params and metrics can be nested dicts\n",
        "    run \\\n",
        "        .set_tags({\"namespace\": {\"key\": datetime.today()}}) \\\n",
        "        .log_params({\"namespace\": {\"key\": True}})  \\\n",
        "        .log_metrics({\"namespace\": {\"key\": 42}})\n",
        "\n",
        "    # An artifact can be a file or dir. Caching options are available.\n",
        "    # See `help(run.log_artifact)` or `help(mlflow_api.log_run_artifact)`\n",
        "    run.log_artifact(\"data/report.csv\", use_cache=False)\n",
        "\n",
        "    # Inspect the metadata\n",
        "    pprint(run)\n",
        "    pprint(run.exp)"
      ]
    },
    {
      "cell_type": "code",
      "execution_count": null,
      "id": "6349349a-4f4b-4c75-938f-fa01ea9ade5d",
      "metadata": {},
      "outputs": [],
      "source": [
        "# The run is ended automatically when exiting the `with` block\n",
        "assert run.end_time is not None\n",
        "assert run.status == mlopus.mlflow.RunStatus.FINISHED"
      ]
    },
    {
      "cell_type": "code",
      "execution_count": null,
      "id": "fbc3b3d2-1f33-4b49-8770-3c7528ff993a",
      "metadata": {},
      "outputs": [],
      "source": [
        "# Inspect the logged artifact.\n",
        "path = run.get_artifact(\"report.csv\")  # If the artifact storage is remote (e.g: S3/GCS), then this will be a path to the\n",
        "!tree {path.parent} && echo            # local cache. Sync between remote and cache happens automatically (unless in offline mode).\n",
        "pd.read_csv(path)"
      ]
    },
    {
      "cell_type": "markdown",
      "id": "71f906f4-03ac-4657-aa94-536b1db605a5",
      "metadata": {},
      "source": [
        "### 2. Artifact dumpers and loaders"
      ]
    },
    {
      "cell_type": "code",
      "execution_count": null,
      "id": "ba88e2ce-e042-4f5b-add0-b31f8478faf7",
      "metadata": {},
      "outputs": [],
      "source": [
        "# An artifact dumper can be any callback that receives a path and writes data to that path.\n",
        "# This could be, for example, a writer method of a model or dataset class.\n",
        "dumper = lambda path: path.mkdir() or [path.joinpath(f\"{i}.txt\").write_text(\"a\"*i) for i in range(1, 4)]"
      ]
    },
    {
      "cell_type": "code",
      "execution_count": null,
      "id": "30a910b4-4594-42f5-90c7-b35acc53a4e9",
      "metadata": {},
      "outputs": [],
      "source": [
        "# An artifact loader can be any callback that receives a path and loads data from that path.\n",
        "# This could be, for example, a loader method of a model or dataset class.\n",
        "loader = lambda path: {f: path.joinpath(f).read_text() for f in sorted(os.listdir(path))}"
      ]
    },
    {
      "cell_type": "code",
      "execution_count": null,
      "id": "e2b42347-431d-45bb-9ab2-9375654520af",
      "metadata": {},
      "outputs": [],
      "source": [
        "# Get experiment and start run\n",
        "with mlflow_api \\\n",
        "    .get_or_create_exp(\"mlopus_introduction\") \\\n",
        "    .start_run(\"2_dumpers_and_loaders\") as run:\n",
        "    \n",
        "    # Log an artifact using a dumper. If the logging fails, the temporary files are kept.\n",
        "    run.log_artifact(dumper, path_in_run=\"my_files\")  "
      ]
    },
    {
      "cell_type": "code",
      "execution_count": null,
      "id": "b23b6915-fa56-4f42-a2f5-6a92c5009e36",
      "metadata": {},
      "outputs": [],
      "source": [
        "# Inspect the logged artifact.\n",
        "!tree {run.get_artifact(\"my_files\")}  # If the artifact storage is remote (e.g: S3/GCS), then this will be a path to the\n",
        "                                      # local cache. Sync between remote and cache happens automatically (unless in offline mode)."
      ]
    },
    {
      "cell_type": "code",
      "execution_count": null,
      "id": "9b6faa2e-7747-4c6f-a7b2-cf6b96d9ee84",
      "metadata": {},
      "outputs": [],
      "source": [
        "# Use a loader on the artifact.\n",
        "run.load_artifact(loader, path_in_run=\"my_files\")  # Just like before, the cache sync happens automatically,\n",
        "                                                   # if required, unless the API is in offline mode."
      ]
    },
    {
      "cell_type": "markdown",
      "id": "f0932c7f-b49a-4d3d-a629-2020dabd1c52",
      "metadata": {},
      "source": [
        "### 3. Model Registry"
      ]
    },
    {
      "cell_type": "code",
      "execution_count": null,
      "id": "6d427543-cded-466d-b50d-f19f087609dc",
      "metadata": {},
      "outputs": [],
      "source": [
        "# Now let's publish a model version.\n",
        "# The `source` of the model artifact will be the same artifact dumper from the previous example.\n",
        "# Alternatively, we could use as `source` a path to a local directory containing all model files.\n",
        "\n",
        "with mlflow_api \\\n",
        "    .get_or_create_exp(\"mlopus_introduction\") \\\n",
        "    .start_run(\"3_model_registry\") as run:\n",
        "\n",
        "    model_version = mlflow_api \\\n",
        "        .get_or_create_model(\"mlopus_example\") \\\n",
        "        .log_version(run, dumper)  # `path_in_run` defaults to model name\n",
        "\n",
        "    print(model_version.url)\n",
        "    print(version_number := model_version.version)"
      ]
    },
    {
      "cell_type": "code",
      "execution_count": null,
      "id": "5366886a-4d30-4f10-a4ab-5a1c4b3daa3e",
      "metadata": {},
      "outputs": [],
      "source": [
        "# Inspect the metadata.\n",
        "pprint(model_version)\n",
        "pprint(model_version.model)\n",
        "pprint(model_version.run)\n",
        "pprint(model_version.run.exp)"
      ]
    },
    {
      "cell_type": "code",
      "execution_count": null,
      "id": "5590367f-1c81-461a-aca5-c973f68f5b2a",
      "metadata": {},
      "outputs": [],
      "source": [
        "# Inspect the logged model artifact.\n",
        "!tree {model_version.get_artifact()}  # If the artifact storage is remote (e.g: S3/GCS), then this will be a path to the\n",
        "                                      # local cache. Sync between remote and cache happens automatically (unless in offline mode)."
      ]
    },
    {
      "cell_type": "code",
      "execution_count": null,
      "id": "461a0f3a-41cb-48ed-a47d-7092a04216ff",
      "metadata": {},
      "outputs": [],
      "source": [
        "# Use the loader function from the previous example on the model artifact.\n",
        "model_version.load_artifact(loader)  # Just like before, the cache sync happens automatically,\n",
        "                                     # if required, unless the API is in offline mode."
      ]
    },
    {
      "cell_type": "markdown",
      "id": "824b4cd9-4750-4a15-9af8-df064dd7c63e",
      "metadata": {},
      "source": [
        "### 4. Model Caching and Offline Mode"
      ]
    },
    {
      "cell_type": "code",
      "execution_count": null,
      "id": "7e442d77-1a18-421f-9d3e-db96b04d412b",
      "metadata": {},
      "outputs": [],
      "source": [
        "# First of all, let's clear all cache, so this example starts clean.\n",
        "mlflow_api.clean_all_cache()\n",
        "\n",
        "# Now, let's cache the model version that we published in the previous example.\n",
        "# Both the metadata and artifact for this model version will be cached.\n",
        "mlflow_api \\\n",
        "    .get_model(\"mlopus_example\") \\\n",
        "    .get_version(version_number) \\\n",
        "    .cache()"
      ]
    },
    {
      "cell_type": "code",
      "execution_count": null,
      "id": "32848588-cf30-471e-8cab-c79ab7f02c34",
      "metadata": {},
      "outputs": [],
      "source": [
        "# Get an offline copy of the API and load the model version metadata using cache only.\n",
        "# Offline mode can also be set when loading the API with `mlopus.mlflow.get_api(conf={\"offline_mode\": True})`\n",
        "offline_model_version = mlflow_api \\\n",
        "    .in_offline_mode \\\n",
        "    .get_model(\"mlopus_example\") \\\n",
        "    .get_version(version_number)\n",
        "\n",
        "# Inspect the metadata.\n",
        "pprint(offline_model_version)"
      ]
    },
    {
      "cell_type": "code",
      "execution_count": null,
      "id": "f0c50794-7250-4c18-85bf-61e51f35f962",
      "metadata": {},
      "outputs": [],
      "source": [
        "# Use the loader function from the previous example on the model artifact.\n",
        "offline_model_version.load_artifact(loader)"
      ]
    }
  ],
  "metadata": {
    "kernelspec": {
      "display_name": "",
      "language": "python",
      "name": ""
    },
    "language_info": {
      "codemirror_mode": {
        "name": "ipython",
        "version": 3
      },
      "file_extension": ".py",
      "mimetype": "text/x-python",
      "name": "python",
      "nbconvert_exporter": "python",
      "pygments_lexer": "ipython3",
      "version": "3.10.14"
    }
  },
  "nbformat": 4,
  "nbformat_minor": 5
}
