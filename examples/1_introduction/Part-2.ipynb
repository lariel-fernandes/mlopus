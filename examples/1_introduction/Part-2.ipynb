{
  "cells": [
    {
      "cell_type": "code",
      "execution_count": null,
      "id": "290a4082c9a908a9",
      "metadata": {
        "ExecuteTime": {
          "end_time": "2024-05-22T18:45:04.301943Z",
          "start_time": "2024-05-22T18:45:04.299157Z"
        }
      },
      "outputs": [],
      "source": [
        "import os\n",
        "import logging\n",
        "import inspect\n",
        "import tempfile\n",
        "from pathlib import Path\n",
        "\n",
        "from devtools import pprint\n",
        "\n",
        "logging.basicConfig(level=logging.INFO, handlers=[logging.StreamHandler()])"
      ]
    },
    {
      "cell_type": "markdown",
      "id": "ab705d49-4629-421a-bdaf-b656d9ad3ee1",
      "metadata": {},
      "source": [
        "### API Configuration"
      ]
    },
    {
      "cell_type": "code",
      "execution_count": null,
      "id": "b9fe92a572d62a4c",
      "metadata": {},
      "outputs": [],
      "source": [
        "import mlopus\n",
        "\n",
        "mlflow_api = mlopus.mlflow.get_api(\n",
        "    conf={\n",
        "        \"tracking_uri\": None,  # Defaults to env var MLFLOW_TRACKING_URI or `~/.cache/mlflow`\n",
        "        \"cache_dir\": None,  # Defaults to ~/.cache/mlopus/mlflow-providers/mlflow/<hashed_tracking_uri>\n",
        "        \"cache_local_artifacts\": True,  # Allow caching artifacts when artifacts repo is local (will cause duplication!) (default is False)\n",
        "    },\n",
        ")"
      ]
    },
    {
      "cell_type": "markdown",
      "id": "59ae2161-baa3-4cd2-ae96-c31d526d9784",
      "metadata": {},
      "source": [
        "### 5. Artifact Schemas"
      ]
    },
    {
      "cell_type": "code",
      "execution_count": null,
      "id": "017ac9f4-a4dc-4296-bfd8-cfc88d9f08d9",
      "metadata": {},
      "outputs": [],
      "source": [
        "# The module `mlopus.artschema` offers a simple framework for defining schemas for model and run artifacts.\n",
        "# Schemas can be used explicitly as dumpers/loaders and also registered via tags to be used implicitly.\n",
        "\n",
        "# Install the package `my-schemas` from this example (a Kernel restart is required after the install)\n",
        "# This package contains a minimal example of what user code can look like when working with the module `mlopus.artschema`\n",
        "%pip install -e ./code/my-schemas"
      ]
    },
    {
      "cell_type": "code",
      "execution_count": null,
      "id": "13b0d9cb-5a19-4885-954c-19c671ba8c7d",
      "metadata": {},
      "outputs": [],
      "source": [
        "# Check the source code for the the module `my_schemas.foobar`.\n",
        "# This is a minimal implementation of artifact schemas with no meaningful\n",
        "# use case, but the same pattern applies to any complex model or dataset.\n",
        "try:\n",
        "    from my_schemas import foobar\n",
        "except ModuleNotFoundError as exc:\n",
        "    print(\"Hint: Restart the Kernel after installing `my-schemas` for the first time\")\n",
        "    raise exc\n",
        "\n",
        "print(inspect.getsource(foobar))"
      ]
    },
    {
      "cell_type": "code",
      "execution_count": null,
      "id": "2064f40b-aaf8-4562-ae15-f3168e8cf13d",
      "metadata": {},
      "outputs": [],
      "source": [
        "# Let's register `foobar.Schema` as the default schema for any version of the model `mlopus_example`\n",
        "(model := mlflow_api.get_model(\"mlopus_example\")).set_tags(\n",
        "    mlopus.artschema.Tags().using(foobar.Schema)\n",
        ")\n",
        "\n",
        "# Observe how the model tags now indicate `foobar.Schema` as being the `default` schema for this model.\n",
        "# The tags also indicate the required Python package for using `foobar.Schema`\n",
        "pprint(model.tags)\n",
        "\n",
        "# Please note that the package requirement inferrence only works for packages intalled via package manager (pip, setuptools, poetry, etc)"
      ]
    },
    {
      "cell_type": "code",
      "execution_count": null,
      "id": "645ae7b0-3f20-4310-947f-c3eae31b311f",
      "metadata": {},
      "outputs": [],
      "source": [
        "# Now we can publish a version of the model `mlopus_example` using the default schema inferred from the model tags.\n",
        "with mlflow_api.get_or_create_exp(\"mlopus_introduction\").start_run(\"5_artifact_schemas\") as run:\n",
        "    \n",
        "    model_version = mlopus.artschema.log_model_version(\n",
        "        run=run,\n",
        "        model=model,\n",
        "        artifact={\"some_data\": {\"foo\": \"bar\"}},  # Because the `default` schema for this model is `foobar.Schema`, this data will\n",
        "                                                 # be parsed into an instance of `foobar.Artifact` and dumped using `foobar.Dumper`\n",
        "    )\n",
        "\n",
        "    print(model_version.url)\n",
        "    print(version_number := model_version.version)"
      ]
    },
    {
      "cell_type": "code",
      "execution_count": null,
      "id": "f2691883-84c5-4f6f-b6b0-86134e97b7f7",
      "metadata": {},
      "outputs": [],
      "source": [
        "# Inspect the logged model artifact.\n",
        "# Observe that the dumper configuration is saved along with the model files.\n",
        "!tree {model_version.get_artifact()}"
      ]
    },
    {
      "cell_type": "code",
      "execution_count": null,
      "id": "69926d3c-6358-4b0d-b506-3e0788720ba2",
      "metadata": {},
      "outputs": [],
      "source": [
        "# Likewise, we can load the model version using the default schema inferred from the tags.\n",
        "# The files will be loaded using `foobar.Loader` and the returned object will be of type `foobar.Artifact`\n",
        "artifact = mlopus.artschema.load_artifact(model_version)\n",
        "\n",
        "# Check the artifact type and content.\n",
        "print(type(artifact))\n",
        "pprint(artifact)\n",
        "\n",
        "# Although it's practical to register schemas at the model level, like we just did, they can also be\n",
        "# registered for each specific model version, in which case the model version tags take precedence\n",
        "# over the parent model tags. The same applies when loading run artifacts with inferred schema (the \n",
        "# schemas registered for the run take precedence over the ones registered for the parent experiment)."
      ]
    },
    {
      "cell_type": "markdown",
      "id": "419278ad-33f0-4941-a3c5-e5caf39f1e20",
      "metadata": {},
      "source": [
        "### 6. Other usage examples of `mlopus.artschema`"
      ]
    },
    {
      "cell_type": "code",
      "execution_count": null,
      "id": "1c26c886-7f09-403d-84aa-935c3eb6ad16",
      "metadata": {},
      "outputs": [],
      "source": [
        "# 6.1 Passing a custom configuration to the inferred schema\n",
        "with mlflow_api.get_or_create_exp(\"mlopus_introduction\").start_run(\"6.1_artschema_custom_conf\") as run:\n",
        "    \n",
        "    model_version = mlopus.artschema.log_model_version(\n",
        "        run=run,\n",
        "        model=model,\n",
        "        artifact={\"some_data\": {\"x\": \"1\", \"y\": 2}},  # Same as: `data=foobar.Artifact(some_data={...})`\n",
        "        dumper_conf={\"encoding\": \"UTF-8\"}            # Same as: `dumper_conf=foobar.Dumper(encoding=...)`\n",
        "    )\n",
        "\n",
        "mlopus.artschema.load_artifact(\n",
        "    model_version,\n",
        "    loader_conf={\"max_files\": 1}  # Same as: `foobar.Loader(max_files=1)`\n",
        ")"
      ]
    },
    {
      "cell_type": "code",
      "execution_count": null,
      "id": "363f81c6-9e3d-44ab-ba4e-045fe357b23f",
      "metadata": {},
      "outputs": [],
      "source": [
        "# 6.2 Exploring the available schemas for a model (same applies to experiment, run and model version)\n",
        "\n",
        "! echo -e \"\\n### Check all available schemas\"\n",
        "pprint(mlopus.artschema.get_schemas(model))\n",
        "\n",
        "! echo -e \"\\n### Get a schema by alias (fails if the alias doesn't exist)\"\n",
        "try:\n",
        "    pprint(mlopus.artschema.get_schema(model, alias=\"custom_schema\"))\n",
        "except Exception as exc:\n",
        "    pprint(exc)\n",
        "\n",
        "! echo -e \"\\n### Get the default schema and load its class\"\n",
        "pprint(Schema := mlopus.artschema.get_schema(model).load())  # This imports the schema class, after validating the python package requirement\n",
        "\n",
        "! echo -e \"\\n### Check the type of Artifact, Dumper and Loader for this schema\"\n",
        "pprint(Schema().Artifact)\n",
        "pprint(Schema().Dumper)\n",
        "pprint(Schema().Loader)"
      ]
    },
    {
      "cell_type": "code",
      "execution_count": null,
      "id": "b144aed8-fc24-4ee8-884b-6e179f4e4fb5",
      "metadata": {},
      "outputs": [],
      "source": [
        "# 6.3 Using the dumper and loader standalone (no MLflow involved)\n",
        "artifact = foobar.Artifact(some_data={\"x\": \"1\", \"y\": \"2\"})\n",
        "\n",
        "with tempfile.TemporaryDirectory() as tmp:\n",
        "    path = Path(tmp) / \"my-artifact\"\n",
        "\n",
        "    # dump\n",
        "    foobar.Dumper(encoding=\"UTF-8\").dump(path, artifact)\n",
        "    \n",
        "    # load\n",
        "    loaded = foobar.Loader(max_files=1).load(path)\n",
        "\n",
        "pprint(loaded)"
      ]
    },
    {
      "cell_type": "code",
      "execution_count": null,
      "id": "5148d88a-d0f8-4d1a-b173-ffc39e5054d4",
      "metadata": {},
      "outputs": [],
      "source": [
        "# 6.4 Using the dumper and loader explicitly with MLflow (no inference via tags, no need to register the schema).\n",
        "#     As seen in the `Part-1` of this tutorial, the `source` for logging an artifact can be a `Path` to the pre-serialized\n",
        "#     artifact or a callback that performs serialization when called with a `Path`. In this case, `foobar.Schema` is used\n",
        "#     explicitly to obtain such a callback. When loading the artifact, the schema is also used to obtain a loader callback.\n",
        "with mlflow_api.get_or_create_exp(\"mlopus_introduction\").start_run(\"6.4_artschema_explicit\") as run:\n",
        "    \n",
        "    model_version = model.log_version(\n",
        "        run=run,\n",
        "        source=foobar.Schema().get_dumper(\n",
        "            artifact={\"some_data\": {\"x\": \"1\", \"y\": \"2\"}},  # This data will be parsed into `foobar.Artifact` (an instance is also accepted)\n",
        "            encoding=\"UTF-8\",  # This settings will be passed to `foobar.Dumper` (an instance or dict is also accepted)\n",
        "        ),\n",
        "    )\n",
        "\n",
        "model_version.load_artifact(\n",
        "    loader=foobar.Schema().get_loader(\n",
        "        max_files=1,  # This settings will be passed to `foobar.Loader` (an instance or dict is also accepted)\n",
        "    ),\n",
        ")"
      ]
    },
    {
      "cell_type": "code",
      "execution_count": null,
      "id": "a736da75-b37e-4177-951a-d6717e9c2288",
      "metadata": {},
      "outputs": [],
      "source": [
        "# 6.5 Some models can be cumbersome to hold in memory and dump \"all at once\" because of size and complexity.\n",
        "#     In such cases, it's fine to leave the `_dump` method of the `Dumper` unimplemented and write model files\n",
        "#     using a specialized pipeline. The respective `Dumper` for the registered schema is still used at publish\n",
        "#     time to verify that the files comply with the expected format, but the `_dump` method is never called.\n",
        "\n",
        "# Let's import this slightly different version of the `foobar` module\n",
        "from my_schemas import foobar_no_dump\n",
        "\n",
        "# Observe that the `Dumper` is tweaked so that the `_dump` method won't work\n",
        "print(inspect.getsource(foobar_no_dump.Dumper))\n",
        "\n",
        "# Register `foobar_no_dump.Schema` as an alternative schema for the model `mlopus_example` under the alias `no-dump`\n",
        "model.set_tags(\n",
        "    mlopus.artschema.Tags() \\\n",
        "        .using(foobar_no_dump.Schema, aliased_as=\"no-dump\")\n",
        ")\n",
        "\n",
        "# Start a new experiment run\n",
        "with mlflow_api.get_or_create_exp(\"mlopus_introduction\").start_run(\"6.5_artschema_no_dump\") as run:\n",
        "    with tempfile.TemporaryDirectory() as tmp:\n",
        "\n",
        "        # Produce the data files using an custom pipeline\n",
        "        (some_data_path := Path(tmp) / \"some_data\").mkdir()\n",
        "        (some_data_path / \"x\").write_text(\"1\")\n",
        "        (some_data_path / \"y\").write_text(\"2\")\n",
        "\n",
        "        # Publish the data files as a model version using the `no-dump` schema.\n",
        "        # The class `foobar_no_dumper.Dumper` is only used to verify the files in `Path(tmp)`\n",
        "        model_version = mlopus.artschema.log_model_version(\n",
        "            run=run,\n",
        "            model=model,\n",
        "            schema=\"no-dump\",\n",
        "            artifact=Path(tmp),\n",
        "            keep_the_source=False,\n",
        "        )\n",
        "\n",
        "# Load the files using the inferred schema class\n",
        "mlopus.artschema.load_artifact(model_version, schema=\"no-dump\")"
      ]
    },
    {
      "cell_type": "markdown",
      "id": "19e54131-d16b-4960-845f-0f2050ac0221",
      "metadata": {},
      "source": [
        "### 7. Artifacts Catalog"
      ]
    },
    {
      "cell_type": "code",
      "execution_count": null,
      "id": "bd30b0b7-b099-4968-9443-8fd67417fb18",
      "metadata": {},
      "outputs": [],
      "source": [
        "# The `ArtifactsCatalog` is type safe interface for downloading or loading\n",
        "# all artifacts required by an application based on the provided settings.\n",
        "\n",
        "# Have a look at the catalog implementation for `my_schemas`\n",
        "# It's a single data container for all aritfacts that will be used in this example\n",
        "from my_schemas.catalog import MyCatalog\n",
        "\n",
        "print(inspect.getsource(MyCatalog))"
      ]
    },
    {
      "cell_type": "code",
      "execution_count": null,
      "id": "b79ed2d1-a6f4-4785-81e2-4de2eb5b9d5b",
      "metadata": {},
      "outputs": [],
      "source": [
        "# Suppose we have an app that uses the following settings to describe its artifact requirements.\n",
        "# Observe that the keys in the following specification match the fields in `MyCatalog`\n",
        "artifact_specs = {\n",
        "    \"foobar\": {\n",
        "        \"subject\": {\n",
        "            \"model_name\": \"mlopus_example\",\n",
        "            \"model_version\": version_number,\n",
        "        },\n",
        "        \"schema\": \"default\",\n",
        "    },\n",
        "    \"foobar_no_dump\": {\n",
        "        \"subject\": {\n",
        "            \"run_id\": run.id,\n",
        "            \"path_in_run\": \"mlopus_example\",\n",
        "        },\n",
        "        \"schema\": \"my_schemas.foobar_no_dump:Schema\",\n",
        "    },\n",
        "}"
      ]
    },
    {
      "cell_type": "code",
      "execution_count": null,
      "id": "ac00f2fb-732b-4039-90e9-053820ca1a50",
      "metadata": {},
      "outputs": [],
      "source": [
        "# Let's clean all cache now, so the download step can be demonstrated\n",
        "mlflow_api.clean_all_cache()"
      ]
    },
    {
      "cell_type": "code",
      "execution_count": null,
      "id": "081147a3-8f2a-45e9-948c-e984650d60bd",
      "metadata": {},
      "outputs": [],
      "source": [
        "# Download the artifacts\n",
        "MyCatalog.download(mlflow_api, artifact_specs)"
      ]
    },
    {
      "cell_type": "code",
      "execution_count": null,
      "id": "a0b9b693-2aaa-42d9-9d7c-d349d2b00590",
      "metadata": {},
      "outputs": [],
      "source": [
        "# Load the cached artifacts using the MLflow API in offline mode\n",
        "catalog = MyCatalog.load(mlflow_api.in_offline_mode, artifact_specs)\n",
        "\n",
        "# The resulting catalog instance offers type-safe accessors for each of the required artifacts\n",
        "pprint(catalog.foobar)\n",
        "pprint(catalog.foobar_no_dump)"
      ]
    },
    {
      "cell_type": "code",
      "execution_count": null,
      "id": "dc55addf-3c1f-4581-9f11-81d91615f021",
      "metadata": {},
      "outputs": [],
      "source": [
        "# For more flexibility, the artifact specs defined previously can also be used independently, without defining a catalog\n",
        "specs = mlopus.artschema.parse_load_specs(artifact_specs)\n",
        "foobar_spec = specs[\"foobar\"].using(mlflow_api)\n",
        "\n",
        "# Download\n",
        "foobar_spec.download()\n",
        "\n",
        "# Load with configured schema (return type is dynamic)\n",
        "foobar_spec.load()\n",
        "\n",
        "# Load with explicit schema (return type is static)\n",
        "foobar_spec.load(schema=foobar.Schema)"
      ]
    }
  ],
  "metadata": {
    "kernelspec": {
      "display_name": "",
      "language": "python",
      "name": ""
    },
    "language_info": {
      "codemirror_mode": {
        "name": "ipython",
        "version": 3
      },
      "file_extension": ".py",
      "mimetype": "text/x-python",
      "name": "python",
      "nbconvert_exporter": "python",
      "pygments_lexer": "ipython3",
      "version": "3.10.14"
    }
  },
  "nbformat": 4,
  "nbformat_minor": 5
}
