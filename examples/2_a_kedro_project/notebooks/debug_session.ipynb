{
  "cells": [
    {
      "cell_type": "code",
      "execution_count": null,
      "id": "154c6895-4e20-48f7-9898-f4211259da3c",
      "metadata": {},
      "outputs": [],
      "source": [
        "%env KEDRO_LOGGING_CONFIG ../conf/logging.yml\n",
        "\n",
        "from devtools import pprint\n",
        "\n",
        "from kedro.framework.startup import bootstrap_project\n",
        "from kedro.framework.session import KedroSession"
      ]
    },
    {
      "cell_type": "code",
      "execution_count": null,
      "id": "04d7bb67-0982-4484-a556-bb815f81e367",
      "metadata": {},
      "outputs": [],
      "source": [
        "# Start a Kedro session for debugging (e.g.: check resolved configs, try out configuring nodes/datasets/hooks, etc)\n",
        "bootstrap_project(\"../\")\n",
        "\n",
        "with KedroSession.create(env=\"local\", extra_params={}) as session:\n",
        "    conf = session.load_context().config_loader\n",
        "    \n",
        "    pprint({scope: conf.get(scope) for scope in conf.config_patterns})"
      ]
    }
  ],
  "metadata": {
    "kernelspec": {
      "display_name": "",
      "language": "python",
      "name": ""
    },
    "language_info": {
      "codemirror_mode": {
        "name": "ipython",
        "version": 3
      },
      "file_extension": ".py",
      "mimetype": "text/x-python",
      "name": "python",
      "nbconvert_exporter": "python",
      "pygments_lexer": "ipython3",
      "version": "3.10.13"
    }
  },
  "nbformat": 4,
  "nbformat_minor": 5
}
